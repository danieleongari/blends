{
 "cells": [
  {
   "cell_type": "markdown",
   "metadata": {},
   "source": [
    "# 01 - First testing"
   ]
  },
  {
   "cell_type": "code",
   "execution_count": 1,
   "metadata": {},
   "outputs": [],
   "source": [
    "%load_ext autoreload\n",
    "%autoreload 2"
   ]
  },
  {
   "cell_type": "code",
   "execution_count": 9,
   "metadata": {},
   "outputs": [
    {
     "data": {
      "text/plain": [
       "{'name': 'myRootBlend',\n",
       " 'description': 'an example of a Blend',\n",
       " 'children': [{'name': 'Solvent',\n",
       "   'description': 'Choose only one of the 3 following solvents',\n",
       "   'children': [{'name': 'Solvent-1',\n",
       "     'description': 'xxx',\n",
       "     'qmin': 0,\n",
       "     'qmax': 1},\n",
       "    {'name': 'Solvent-2', 'description': 'yyy', 'qmin': 0, 'qmax': 1},\n",
       "    {'name': 'Solvent-3', 'description': 'zzz', 'qmin': 0, 'qmax': 1}],\n",
       "   'qmin': 0.2,\n",
       "   'qmax': 0.3,\n",
       "   'cmax': 1},\n",
       "  {'name': 'Blend-A',\n",
       "   'description': 'Mix the following A components',\n",
       "   'children': [{'name': 'Comp-A1',\n",
       "     'description': 'xxx',\n",
       "     'qmin': 0,\n",
       "     'qmax': 1},\n",
       "    {'name': 'Comp-A2', 'description': 'yyy', 'qmin': 0, 'qmax': 1},\n",
       "    {'name': 'Comp-A3', 'description': 'zzz', 'qmin': 0, 'qmax': 1}],\n",
       "   'qmin': 0.4,\n",
       "   'qmax': 0.7,\n",
       "   'cmax': 3},\n",
       "  {'name': 'Component-B', 'description': 'zzz', 'qmin': 0.1, 'qmax': 0.3},\n",
       "  {'name': 'Component-C',\n",
       "   'description': 'zzz',\n",
       "   'children': [{'name': 'Comp-C1',\n",
       "     'description': 'xxx',\n",
       "     'children': [{'name': 'Comp-C1-1',\n",
       "       'description': 'xxx',\n",
       "       'qmin': 0,\n",
       "       'qmax': 1},\n",
       "      {'name': 'Comp-C1-2', 'description': 'yyy', 'qmin': 0, 'qmax': 1}],\n",
       "     'qmin': 0.0,\n",
       "     'qmax': 1.0,\n",
       "     'cmax': 2},\n",
       "    {'name': 'Comp-C2', 'description': 'yyy', 'qmin': 0, 'qmax': 1}],\n",
       "   'qmin': 0.0,\n",
       "   'qmax': 0.2,\n",
       "   'cmax': 1}],\n",
       " 'qmin': 1.0,\n",
       " 'qmax': 1.0,\n",
       " 'cmax': 4}"
      ]
     },
     "execution_count": 9,
     "metadata": {},
     "output_type": "execute_result"
    }
   ],
   "source": [
    "import sys\n",
    "sys.path.append('..')\n",
    "\n",
    "import json\n",
    "\n",
    "from blends.base import dict_to_blend, blend_to_dict\n",
    "\n",
    "# Load a blend from a json file as a dictionary\n",
    "myblend_dict = json.load(open('../data/blend_example_001.json'))\n",
    "\n",
    "# Create a Blend object from the dictionary\n",
    "myblend = dict_to_blend(myblend_dict)\n",
    " \n",
    "# Get the dictionary representation of the Blend object\n",
    "myblend_dict_out = blend_to_dict(myblend)\n",
    "\n",
    "# NOTE: missing parameters from the original dictionary are filled\n",
    "display(myblend_dict_out)"
   ]
  }
 ],
 "metadata": {
  "kernelspec": {
   "display_name": "Python 3.9.7 ('opt39')",
   "language": "python",
   "name": "python3"
  },
  "language_info": {
   "codemirror_mode": {
    "name": "ipython",
    "version": 3
   },
   "file_extension": ".py",
   "mimetype": "text/x-python",
   "name": "python",
   "nbconvert_exporter": "python",
   "pygments_lexer": "ipython3",
   "version": "3.10.12"
  },
  "vscode": {
   "interpreter": {
    "hash": "2c8a710a069a2ad34256b5ad79fc70bd7445328e97c19d659d7061484033c87b"
   }
  }
 },
 "nbformat": 4,
 "nbformat_minor": 4
}
